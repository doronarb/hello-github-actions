{
 "cells": [
  {
   "cell_type": "markdown",
   "id": "de2bf1cf",
   "metadata": {},
   "source": [
    "# Data Science Tools and Ecosystem"
   ]
  },
  {
   "cell_type": "markdown",
   "id": "d8211121",
   "metadata": {},
   "source": [
    "In this notebook, Data Science Tools and Ecosystem are summarized."
   ]
  },
  {
   "cell_type": "markdown",
   "id": "683bb7b4-8d10-4088-8493-243f65041bd1",
   "metadata": {},
   "source": [
    "**Objectives:**\n",
    "* List of popular languages for Data Science\n",
    "* List on commonly used libraries for Data Science\n",
    "* List of Data Science Tools"
   ]
  },
  {
   "cell_type": "markdown",
   "id": "e4d83281",
   "metadata": {},
   "source": [
    "Some of the popular languages that Data Scientists use are:\n",
    "1. Python\n",
    "2. R\n",
    "3. Julia"
   ]
  },
  {
   "cell_type": "markdown",
   "id": "e7ff2a32",
   "metadata": {},
   "source": [
    "Some of the commonly used libraries used by Data Scientists include:\n",
    "1. Pandas\n",
    "2. Scikit learn\n",
    "3. NumpPy"
   ]
  },
  {
   "cell_type": "markdown",
   "id": "f33d05b7-dcc6-445c-80a8-9c9e305bbf4c",
   "metadata": {},
   "source": [
    "|Data Science Tools|\n",
    "|----|\n",
    "|Anaconda|\n",
    "|JupiterLab|\n",
    "|Spyder|"
   ]
  },
  {
   "cell_type": "markdown",
   "id": "7ed0104c-f626-4451-98fe-fb49300c2dce",
   "metadata": {},
   "source": [
    "### Below are a few examples of evaluating arithmetic expressions in Python "
   ]
  },
  {
   "cell_type": "markdown",
   "id": "5bd3c530-4a2b-4527-a6f9-579f1d20902f",
   "metadata": {},
   "source": [
    "This a simple arithmetic expression to mutiply then add integers"
   ]
  },
  {
   "cell_type": "code",
   "execution_count": 1,
   "id": "a4c02455-723c-4ae4-ac95-b8698fd6c26a",
   "metadata": {},
   "outputs": [
    {
     "data": {
      "text/plain": [
       "17"
      ]
     },
     "execution_count": 1,
     "metadata": {},
     "output_type": "execute_result"
    }
   ],
   "source": [
    "(3*4)+5"
   ]
  },
  {
   "cell_type": "markdown",
   "id": "3f1cd2e8-9b8f-4158-9822-913b76f9f210",
   "metadata": {},
   "source": [
    "This will convert 200 minutes to hours by diving by 60"
   ]
  },
  {
   "cell_type": "code",
   "execution_count": 2,
   "id": "ee6dc880-3753-45ef-ba11-e584212e58e2",
   "metadata": {},
   "outputs": [
    {
     "data": {
      "text/plain": [
       "3.3333333333333335"
      ]
     },
     "execution_count": 2,
     "metadata": {},
     "output_type": "execute_result"
    }
   ],
   "source": [
    "200/60"
   ]
  },
  {
   "cell_type": "markdown",
   "id": "a316d4e1-3ea2-4263-93cd-4acf42729945",
   "metadata": {},
   "source": [
    "## Author\n",
    "Doron Arbiv"
   ]
  },
  {
   "cell_type": "code",
   "execution_count": null,
   "id": "36d642ef-0895-4d9b-bc69-12f82aade0e5",
   "metadata": {},
   "outputs": [],
   "source": []
  }
 ],
 "metadata": {
  "celltoolbar": "Raw Cell Format",
  "kernelspec": {
   "display_name": "Python 3 (ipykernel)",
   "language": "python",
   "name": "python3"
  },
  "language_info": {
   "codemirror_mode": {
    "name": "ipython",
    "version": 3
   },
   "file_extension": ".py",
   "mimetype": "text/x-python",
   "name": "python",
   "nbconvert_exporter": "python",
   "pygments_lexer": "ipython3",
   "version": "3.10.9"
  }
 },
 "nbformat": 4,
 "nbformat_minor": 5
}
